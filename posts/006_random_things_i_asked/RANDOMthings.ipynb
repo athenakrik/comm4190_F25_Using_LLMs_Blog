{
 "cells": [
  {
   "cell_type": "raw",
   "id": "6d4eda20-4799-4339-a3a0-f9a50eadacb2",
   "metadata": {},
   "source": [
    "---\n",
    "title: \"Asking Chat to predict prompts it thinks I would write based on my prompt history.\"\n",
    "description: \"I thought it would be funny to show some insight into my conversations with Chat this week!\" \n",
    "author: \"Athena\"\n",
    "date: \"9/18/2025\"\n",
    "categories:\n",
    "  - LLMs\n",
    "  - Learning\n",
    "  - ChatGPT \n",
    "  - Advice\n",
    "---"
   ]
  },
  {
   "cell_type": "markdown",
   "id": "6227890d-78f1-430a-b230-663f11213778",
   "metadata": {},
   "source": [
    "Here are some examples of prompts I usually ask chat:\n",
    "1. Give me a bible verse on wanting something to work out in that moment but it comes much later\n",
    "2. so i have been trying to figure out if i have sibo or ibs and decided to eat yogurt, blueberries, wildflower honey, asian pear, and banana with cinnamon for breakfast. i got very bloated about 20 minutes after and the bloating lasted about 20 minutes. why?\n",
    "3. What is runners stomach?\n",
    "4. how do I put a song as my ringtone\n",
    "5. is squash bloating?\n",
    "6. How old was Davis sacks when he became a billionaire\n",
    "7. Health x ai startups right now\n",
    "8. why isn't biotech recieving much funding anymore?\n",
    "\n",
    "Now, I asked chat to write prompts that it would predict I would ask it:\n",
    "\n",
    "Predicted Prompts You’d Ask\n",
    "\n",
    "“Can you break down the differences between gross margin and profit margin with examples?”\n",
    "\n",
    "“Summarize the main use cases of AI in biotech drug discovery right now, especially for protein modeling.”\n",
    "\n",
    "“How can I structure a short LinkedIn message to a VC without sounding too formal?”\n",
    "\n",
    "“Make me a one-day meal plan using chicken, rice, and vegetables but keep it light for lunch and heavier for dinner.”\n",
    "\n",
    "“What are some startups using LLMs in healthcare that are still early stage?”\n",
    "\n",
    "“Write a short script introducing myself for a networking event — keep it casual but professional.”\n",
    "\n",
    "“How do I know if my Jupyter Notebook file saved correctly and is in the right folder?”\n",
    "\n",
    "“Give me a case interview framework for analyzing a consumer products company’s profitability.”\n",
    "\n",
    "“What’s a simple way to calculate variance and standard deviation in Python with a dataset?”\n",
    "\n",
    "“Describe what Intris is in two sentences, but make it sound investor-ready.”\n",
    "\n",
    "“What are the big takeaways from the OECD report on AI data scraping between pages 9 and 40?”\n",
    "\n",
    "“If I want to freeze bananas and blueberries for smoothies, how should I prep them?”\n",
    "\n",
    "“What are the latest PM internship applications for summer 2026 I should be looking at?”\n",
    "\n",
    "“How is Thinking Machines Labs different from OpenAI in terms of their focus and products?”\n",
    "\n",
    "“What’s the difference between quant trading and ETF trading at Jane Street?”\n",
    "\n",
    "In all honesty, this is extremely accurate! I am kind of mad I never decided to ask these earlier! I think Chat's ability to have memory based on a person's various prompts is one of the best aspects of AI, tailoring an AI to you!"
   ]
  }
 ],
 "metadata": {
  "kernelspec": {
   "display_name": "Python 3-12 (COMM4190)",
   "language": "python",
   "name": "python3-12_comm4190"
  },
  "language_info": {
   "codemirror_mode": {
    "name": "ipython",
    "version": 3
   },
   "file_extension": ".py",
   "mimetype": "text/x-python",
   "name": "python",
   "nbconvert_exporter": "python",
   "pygments_lexer": "ipython3",
   "version": "3.12.11"
  }
 },
 "nbformat": 4,
 "nbformat_minor": 5
}
