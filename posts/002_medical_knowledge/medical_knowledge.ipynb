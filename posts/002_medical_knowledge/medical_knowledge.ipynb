{
 "cells": [
  {
   "cell_type": "raw",
   "id": "41a11698-da73-43c3-b360-b3328064aef3",
   "metadata": {},
   "source": [
    "---\n",
    "title: \"Prompting for medical knowledge\"\n",
    "description: \"How do you get LLMs to give accurate medical responses\" \n",
    "author: \"Athena\"\n",
    "date: \"9/11/2025\"\n",
    "categories:\n",
    "  - LLMs\n",
    "  - Medical Knowledge\n",
    "---"
   ]
  },
  {
   "cell_type": "markdown",
   "id": "74847f82-77a3-40d4-b726-8accd43fc0b9",
   "metadata": {},
   "source": [
    "This is my blog."
   ]
  }
 ],
 "metadata": {
  "kernelspec": {
   "display_name": "Python 3-12 (COMM4190)",
   "language": "python",
   "name": "python3-12_comm4190"
  },
  "language_info": {
   "codemirror_mode": {
    "name": "ipython",
    "version": 3
   },
   "file_extension": ".py",
   "mimetype": "text/x-python",
   "name": "python",
   "nbconvert_exporter": "python",
   "pygments_lexer": "ipython3",
   "version": "3.12.11"
  }
 },
 "nbformat": 4,
 "nbformat_minor": 5
}
