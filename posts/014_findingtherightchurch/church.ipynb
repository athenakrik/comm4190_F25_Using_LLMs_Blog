{
 "cells": [
  {
   "cell_type": "raw",
   "id": "ddb94a4b-4f18-4d72-8696-9095f52da1f8",
   "metadata": {},
   "source": [
    "---\n",
    "title: \"Finding My Place: How I Finally Found My Church Home in Philly\"\n",
    "description: \"After months of visiting different churches and never quite feeling at home, I finally found a community that feels right. Freedom Church, part of the Every Nation Campus (ENC) network, has become a place where I’ve met incredible college students, built real friendships, and reconnected with my faith in a genuine way. This post is about finding belonging, faith, and family in the heart of Philly.\" \n",
    "author: \"Athena\"\n",
    "date: \"10/26/2025\"\n",
    "categories:\n",
    "  - LLMs\n",
    "  - Learning\n",
    "  - Church\n",
    "---"
   ]
  },
  {
   "cell_type": "raw",
   "id": "47f865ab-a4d1-4641-8949-1364034da462",
   "metadata": {},
   "source": [
    "I’ve been trying to find the right church in Philly for what feels like forever. It’s one of those things that sounds simple—you just go, see how it feels, and stay if it clicks—but it’s actually not that easy. I wanted somewhere that felt alive, genuine, and welcoming, not just a place to sit for an hour on Sundays. I wanted people my age, real community, and something that made faith feel like part of everyday life again.\n",
    "\n",
    "After visiting a bunch of different churches across the city and never quite feeling at home, I finally found it—**Freedom Church**. It’s connected to an organization called **Every Nation Campus (ENC)**, and honestly, it’s everything I was hoping for and more. The first time I went, I noticed how many college students were there. Everyone was so warm and open, not in that forced way, but in a “hey, we’re genuinely glad you’re here” kind of way. It was the first time in a while that I felt like I didn’t have to try to fit in—I just did.\n",
    "\n",
    "Freedom has this incredible energy. The messages feel personal and grounded, the music is amazing, and there’s such a strong sense of community that you can feel it the moment you walk in. I’ve met so many people who are not only kind but also passionate about their faith and about supporting one another. It’s been refreshing to be around people who are growing, questioning, and celebrating together—it’s not performative, it’s real.\n",
    "\n",
    "Being part of ENC has also been such a blessing. It’s a college ministry that brings students from different campuses together, and there’s something really special about being surrounded by people who are all trying to build something meaningful in their own lives while encouraging others to do the same. I’ve gone to a few of their small groups and events now, and every time, I leave feeling lighter, more grounded, and more connected.\n",
    "\n",
    "After months of searching, it finally feels like I’ve found my place in Philly—not just a church, but a community that feels like family.\n"
   ]
  }
 ],
 "metadata": {
  "kernelspec": {
   "display_name": "Python 3-12 (COMM4190)",
   "language": "python",
   "name": "python3-12_comm4190"
  },
  "language_info": {
   "codemirror_mode": {
    "name": "ipython",
    "version": 3
   },
   "file_extension": ".py",
   "mimetype": "text/x-python",
   "name": "python",
   "nbconvert_exporter": "python",
   "pygments_lexer": "ipython3",
   "version": "3.12.12"
  }
 },
 "nbformat": 4,
 "nbformat_minor": 5
}
