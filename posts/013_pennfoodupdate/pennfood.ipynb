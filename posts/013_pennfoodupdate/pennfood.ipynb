{
 "cells": [
  {
   "cell_type": "raw",
   "id": "ce6fd771-0dee-4c57-95a5-2ba87c90c248",
   "metadata": {},
   "source": [
    "---\n",
    "title: \"Can’t Catch a Break: The Post-NYC Food Poisoning Saga\"\n",
    "description: \"After a perfect few days in New York City filled with sunsets on the High Line, thrift shopping in Chelsea Market, and all the city energy I could ask for, I came back to Philly thinking I was finally in the clear. Then, out of nowhere, food poisoning hit—this time from Dig of all places. This post is a chaotic mix of bad luck, city living, and the kind of humor you find when you’re too sick to do anything but laugh.\" \n",
    "author: \"Athena\"\n",
    "date: \"10/26/2025\"\n",
    "categories:\n",
    "  - LLMs\n",
    "  - Learning\n",
    "  - Food\n",
    "  - Health\n",
    "---"
   ]
  },
  {
   "cell_type": "markdown",
   "id": "bc88db3f-db24-49d1-9692-6eb7f690a095",
   "metadata": {},
   "source": [
    "I seriously don’t know what’s going on with my luck lately, but it feels like the universe has a running joke at my expense. After the most amazing few days in New York—staying at the Freehand Hotel, exploring Chelsea Market, walking the High Line, and just feeling like I was finally in my city era—I came back to Philly completely content. You know that calm, happy exhaustion after a perfect trip? That was me. I was ready to ease back into normal life, grab a good meal, and unwind before classes picked up again.\n",
    "\n",
    "So naturally, I decided to stop at Dig. You’d think that would be a safe choice. It’s supposed to be one of those “clean,” healthy, comforting spots—grilled chicken, brown rice, sweet potatoes, nothing risky. I wasn’t even trying to be adventurous. But a few hours later, I felt that all-too-familiar twist in my stomach, and my whole night fell apart from there. Food poisoning. Again. I could tell right away because I’ve unfortunately become an expert in the symptoms.\n",
    "\n",
    "It started with nausea, then the chills, then that awful moment where you realize it’s not just an upset stomach—it’s going to be a long, miserable night. I kept replaying my day, trying to figure out what I did wrong. I hadn’t even eaten anything questionable in New York, and I somehow made it through all those street carts, markets, and random cafés completely fine. Then I come back to Philly, eat at a healthy chain, and end up knocked out for two days.\n",
    "\n",
    "It’s honestly starting to feel personal. This isn’t even the first time I’ve gotten food poisoning this semester. Between that, getting sick during midterms, and now this, I feel like I can’t catch a break. My friends joke that the cities I love—New York and Philly—are conspiring against me. And honestly? It kind of feels true. It’s like every time I start to feel put-together, something random happens to completely humble me.\n",
    "\n",
    "The worst part is that I really like Dig. Or at least I used to. It’s one of those spots you go to after a long day because you know exactly what you’re getting. So now I’m conflicted—part of me wants to give it another chance, but the other part of me never wants to see roasted chicken or kale again. I’ve been surviving on saltines, ginger ale, and electrolytes, trying to pretend this is all just part of my “wellness routine.”\n",
    "\n",
    "But honestly, once I got past the worst of it, I had to laugh. Because of course this would happen right after one of my favorite weekends of the year. I was on such a high from NYC—sunset walks by Pier 57, the view from The Edge, wandering through Flatiron and Gramercy—and then Philly hit me with food poisoning like a plot twist. It’s so ironic it almost feels cinematic.\n",
    "\n",
    "At this point, I’m just accepting that chaos follows me everywhere. I’ll recover, probably start craving Dig again in a few weeks (because I always do), and move on like it never happened. But still, I can’t help but feel like I deserve a break—just one week of good food, good luck, and no stomach drama. Until then, it’s me, my saltines, and my hot tea against the world."
   ]
  }
 ],
 "metadata": {
  "kernelspec": {
   "display_name": "Python 3-12 (COMM4190)",
   "language": "python",
   "name": "python3-12_comm4190"
  },
  "language_info": {
   "codemirror_mode": {
    "name": "ipython",
    "version": 3
   },
   "file_extension": ".py",
   "mimetype": "text/x-python",
   "name": "python",
   "nbconvert_exporter": "python",
   "pygments_lexer": "ipython3",
   "version": "3.12.12"
  }
 },
 "nbformat": 4,
 "nbformat_minor": 5
}
