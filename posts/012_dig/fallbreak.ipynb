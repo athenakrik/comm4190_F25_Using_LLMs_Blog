{
 "cells": [
  {
   "cell_type": "raw",
   "id": "7b6c4982-10f1-4867-b4f1-6e15c6a37025",
   "metadata": {},
   "source": [
    "---\n",
    "title: \"How my Fall Break Went\"\n",
    "description: \"Giving ChatGPT my NYC itinerary and asking it to summarize my time there in a positive way.\" \n",
    "author: \"Athena\"\n",
    "date: \"10/26/2025\"\n",
    "categories:\n",
    "  - LLMs\n",
    "  - Learning\n",
    "  - NYC\n",
    "  - Travel\n",
    "---"
   ]
  },
  {
   "cell_type": "markdown",
   "id": "0ee0a266-a917-4135-b3d8-95d052320101",
   "metadata": {},
   "source": [
    "Our time in New York City was unforgettable, filled with a perfect mix of adventure, great food, and long walks through some of the city’s most iconic spots. We stayed at the Freehand Hotel, a cozy and stylish spot near the Flatiron District that made it easy to explore everything around us. From our very first morning, the energy of the city was contagious. We started at The Edge, taking in sweeping skyline views that made us feel like we were on top of the world. From there, we wandered through Hudson Yards and onto the High Line—a highlight of the entire trip. The elevated walkway, lined with flowers and city views, led us past the Vessel and down toward Chelsea Market, where we explored thrift shops and tried different bites for lunch. The combination of city views, art installations, and the buzz of people all around made the High Line and Chelsea Market our favorite part of the trip.\n",
    "\n",
    "In the evenings, we explored the Flatiron and Gramercy neighborhoods, soaking in the atmosphere around Madison Square Park and stopping by the LEGO Store before ending the night with pizza at Scarr’s and a quiet moment by the pier. The next day took us downtown—through the West Village, Little Italy, Chinatown, and all the way to the Financial District. We visited landmarks like Wall Street, Ground Zero, and the Oculus before dressing up for dinner at Delmonico’s. The ribeye and pasta there were absolutely perfect, and it felt like such a classic New York moment to end the day on a high note.\n",
    "\n",
    "Our third day was all about uptown. We started at Bryant Park and the New York Public Library, then made our way up Fifth Avenue for some shopping and sightseeing at Central Park, St. Patrick’s Cathedral, and Columbus Circle. Later that evening, we caught the sunset by the West Side Highway and ended with a ferry ride that gave us one last look at the Manhattan skyline glittering across the water. It was the kind of trip that reminded us how exciting the city can be—fast-paced but full of little moments that stay with you long after you leave."
   ]
  }
 ],
 "metadata": {
  "kernelspec": {
   "display_name": "Python 3-12 (COMM4190)",
   "language": "python",
   "name": "python3-12_comm4190"
  },
  "language_info": {
   "codemirror_mode": {
    "name": "ipython",
    "version": 3
   },
   "file_extension": ".py",
   "mimetype": "text/x-python",
   "name": "python",
   "nbconvert_exporter": "python",
   "pygments_lexer": "ipython3",
   "version": "3.12.12"
  }
 },
 "nbformat": 4,
 "nbformat_minor": 5
}
