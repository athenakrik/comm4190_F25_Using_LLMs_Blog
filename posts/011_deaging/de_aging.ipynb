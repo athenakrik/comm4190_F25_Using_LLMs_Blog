{
 "cells": [
  {
   "cell_type": "raw",
   "id": "c3f600aa-e8bf-41e6-8375-afd1f197f920",
   "metadata": {},
   "source": [
    "---\n",
    "title: \"The Race to Reverse Aging: How Tech Founders and VCs Are Betting on De-Aging\"\n",
    "description: \"ChatGPT writes a  deep dive into how tech leaders and venture capitalists are fueling the rise of de-aging technology and longevity startups.\" \n",
    "author: \"Athena\"\n",
    "date: \"10/4/2025\"\n",
    "categories:\n",
    "  - LLMs\n",
    "  - Startups\n",
    "  - Tech \n",
    "  - Health\n",
    "---"
   ]
  },
  {
   "cell_type": "markdown",
   "id": "eb9b483c-edfe-43b3-9a1e-82e79af8b297",
   "metadata": {},
   "source": []
  }
 ],
 "metadata": {
  "kernelspec": {
   "display_name": "Python 3-12 (COMM4190)",
   "language": "python",
   "name": "python3-12_comm4190"
  },
  "language_info": {
   "codemirror_mode": {
    "name": "ipython",
    "version": 3
   },
   "file_extension": ".py",
   "mimetype": "text/x-python",
   "name": "python",
   "nbconvert_exporter": "python",
   "pygments_lexer": "ipython3",
   "version": "3.12.11"
  }
 },
 "nbformat": 4,
 "nbformat_minor": 5
}
