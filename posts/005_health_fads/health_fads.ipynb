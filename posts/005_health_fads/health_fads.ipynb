{
 "cells": [
  {
   "cell_type": "raw",
   "id": "67e6774e-d153-4e0f-9679-d79be63bb75a",
   "metadata": {},
   "source": [
    "---\n",
    "title: \"I think Penn food seriously messed up my stomach Part 1\"\n",
    "description: \"Asking ChatGPT why I developed so many stomach problems since coming to Penn. Part 1 of a many part series where I test different foods and see what allergies I have developed to food since starting college!\" \n",
    "author: \"Athena\"\n",
    "date: \"9/18/2025\"\n",
    "categories:\n",
    "  - LLMs\n",
    "  - Learning\n",
    "  - Health \n",
    "  - Wellness\n",
    "  - Food\n",
    "  - Allergies \n",
    "---"
   ]
  },
  {
   "cell_type": "markdown",
   "id": "7a7a0be5-9f08-41e8-8359-842c6841b335",
   "metadata": {},
   "source": [
    "So, as many people can agree, college is a formative time. You make friends, explore new career paths, and so much more. But, famously, college is also a time where you are away from home. No more home-cooked meals, pantry constantly stocked, or being taken care of. I stepped into independent life in college very easily but I fear I didn't pay attention to how eating dining hall food everyday would affect me. \n",
    "\n",
    "What has changed since starting college? Well, for starters, I think I have become highly allergic to lactose! I have been giving chat my symptoms, and it gave me a list of disorders I can have: IBS, SIBO, and some more scary intestinal disorders. I definitely think I don't have an intestinal disorder because all seems to be fine at home. To put it simply, my main symptom is feeling like my stomach is on fire. Yeah—not a fun feeling to have every night.\n",
    "\n",
    "So, I decided to do a little experiment this semester. I am going to focus on having certain foods each week, with every new week having different additions and subtractions from my diet. For example, one week I will do lactose free yogurt for breakfast and the next week will do yogurt with lactose. \n",
    "\n",
    "I plan to test my ability to digest lactose because I really need to figure out what this is. \n",
    "\n",
    "So, each week, I will write one post on how my meal plan is helping me and also monitoring my symptoms. \n",
    "\n",
    "I asked chat to make me a plan that is easy to stick to and not super restrictive for this upcoming week. I let it know my favorite foods: Yogurt, Eggs, Bell pepper, Cucumber, Carrots, Broccoli, Spaghetti Squash, Marinara, Avocado, Beef, Chicken, Steak, Potato, Sweet potato, Rice , Fruits, and Ezekiel bread. I also typically eat a light breakfast, lunch, dinner and snack occasionally throughout the day. So, I asked chat to also account for my preferences when making the meal plan. \n",
    "\n",
    "This is the rough plan that Chat created which I will follow each day and see if my symptoms worsen or get better: \n",
    "\n",
    "Flexible Daily Meal Plan\n",
    "\n",
    "Breakfast \n",
    "- 2 scrambled eggs (hard-boiled / fried / omelet)\n",
    "- ½ avocado (bell pepper / cucumber slices)\n",
    "- 1 slice Ezekiel bread (sweet potato hash / rice cake)\n",
    "\n",
    "Lunch \n",
    "- Grilled chicken breast (beef / steak)\n",
    "- 1 cup rice (spaghetti squash / roasted potato / sweet potato)\n",
    "- Steamed broccoli (carrots / cucumber / bell pepper)\n",
    "\n",
    "Snack \n",
    "- 1 apple (berries / banana)\n",
    "- Baby carrots (cucumber sticks / bell pepper slices) with cream cheese and bagel seasoning\n",
    "\n",
    "Dinner \n",
    "- Grilled steak (chicken thigh / ground beef)\n",
    "- Roasted potato (rice / spaghetti squash)\n",
    "- Roasted carrots (broccoli / cucumber salad)\n",
    "- Marinara sauce optional on side for flavor with spaghetti squash\n",
    "\n",
    "I'll get back to you with my symptoms next week!!!"
   ]
  }
 ],
 "metadata": {
  "kernelspec": {
   "display_name": "Python 3-12 (COMM4190)",
   "language": "python",
   "name": "python3-12_comm4190"
  },
  "language_info": {
   "codemirror_mode": {
    "name": "ipython",
    "version": 3
   },
   "file_extension": ".py",
   "mimetype": "text/x-python",
   "name": "python",
   "nbconvert_exporter": "python",
   "pygments_lexer": "ipython3",
   "version": "3.12.11"
  }
 },
 "nbformat": 4,
 "nbformat_minor": 5
}
