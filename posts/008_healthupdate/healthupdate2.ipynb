{
 "cells": [
  {
   "cell_type": "raw",
   "id": "088a1205-89f6-4bc7-b833-0a6cfe901a2b",
   "metadata": {},
   "source": [
    "---\n",
    "title: \"Penn Food Seriously Messed Up My Stomach Part 2\"\n",
    "description: \"Update on how I feel after ChatGPT gave me a plan to try and see what was triggering me! ChatGPT wrote this review.\" \n",
    "author: \"Emma\"\n",
    "date: \"2/1/2025\"\n",
    "categories:\n",
    "  - LLMs\n",
    "  - Learning\n",
    "  - Health \n",
    "  - AI Health Advice\n",
    "---"
   ]
  },
  {
   "cell_type": "code",
   "execution_count": null,
   "id": "02717bd9-565b-4c78-b532-af715e87d917",
   "metadata": {},
   "outputs": [],
   "source": []
  }
 ],
 "metadata": {
  "kernelspec": {
   "display_name": "Python 3-12 (COMM4190)",
   "language": "python",
   "name": "python3-12_comm4190"
  },
  "language_info": {
   "codemirror_mode": {
    "name": "ipython",
    "version": 3
   },
   "file_extension": ".py",
   "mimetype": "text/x-python",
   "name": "python",
   "nbconvert_exporter": "python",
   "pygments_lexer": "ipython3",
   "version": "3.12.11"
  }
 },
 "nbformat": 4,
 "nbformat_minor": 5
}
