{
 "cells": [
  {
   "cell_type": "markdown",
   "id": "680e78a5-0bbd-4f12-9d30-647e9a687b11",
   "metadata": {},
   "source": [
    "---\n",
    "title: \"Penn Food Seriously Messed Up My Stomach Part 2\"\n",
    "description: \"Update on how I feel after ChatGPT gave me a plan to try and see what was triggering me! ChatGPT wrote this review.\" \n",
    "author: \"Athena\"\n",
    "date: \"10/4/2025\"\n",
    "categories:\n",
    "  - LLMs\n",
    "  - Learning\n",
    "  - Health \n",
    "  - AI Health Advice\n",
    "---"
   ]
  },
  {
   "cell_type": "markdown",
   "id": "4773a8fa-079c-4319-897c-7c78fb281368",
   "metadata": {},
   "source": [
    "Hi everyone! I wanted to share a little update on my stomach journey since I first wrote about how Penn food was really messing with me a few weeks ago. If you remember, I was having intense bloating issues that made me feel uncomfortable almost every day, no matter what I ate. At that point, I was honestly just confused and frustrated, trying to figure out what the culprit was.\n",
    "\n",
    "Since then, I’ve been paying closer attention to what I eat and how my body responds. The biggest surprise has been that I didn’t have to completely overhaul my diet to start feeling better. I’ve still been eating ice cream, cookies, and other things that some people might call “unhealthy,” but I’ve also been balancing those with simpler, cleaner meals. That combination seems to work for me—so it’s not about eating perfectly all the time, it’s more about knowing what really triggers me.\n",
    "\n",
    "The biggest discovery was how much of a difference it made to cut out yogurt and cottage cheese entirely. I used to eat them thinking they were “healthy” options, but after stopping completely, I was shocked at how much better my stomach felt within just a couple of weeks. The bloating that used to feel constant has gone down significantly, and I feel like I have more control over my digestion overall. It’s crazy to me that making just one or two small changes could have such a big effect.\n",
    "\n",
    "Right now, I don’t think I’ll be reintroducing yogurt or cottage cheese any time soon. I want to give my stomach more time to heal and really stabilize before testing them out again. That being said, I’m not swearing them off forever—I’ll probably try them again in the coming months to see how I react. For now, though, this new balance feels right.\n",
    "\n",
    "I plan to keep giving periodic updates here because I know a lot of people struggle with similar stomach issues and it helps to share what’s working and what isn’t. This post, like my last one, was written with the help of ChatGPT—it’s kind of fun to treat this like a co-written diary where I can just dump my thoughts and then have them shaped into something readable. So thank you if you’ve been following along, and stay tuned for part 3 as I keep experimenting with what works best for me."
   ]
  }
 ],
 "metadata": {
  "kernelspec": {
   "display_name": "Python 3-12 (COMM4190)",
   "language": "python",
   "name": "python3-12_comm4190"
  },
  "language_info": {
   "codemirror_mode": {
    "name": "ipython",
    "version": 3
   },
   "file_extension": ".py",
   "mimetype": "text/x-python",
   "name": "python",
   "nbconvert_exporter": "python",
   "pygments_lexer": "ipython3",
   "version": "3.12.11"
  }
 },
 "nbformat": 4,
 "nbformat_minor": 5
}
